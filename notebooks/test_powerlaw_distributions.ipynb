{
 "cells": [
  {
   "cell_type": "code",
   "execution_count": 754,
   "metadata": {},
   "outputs": [],
   "source": [
    "import numpy as np\n",
    "import scipy as sp\n",
    "import networkx as nx\n",
    "import seaborn as sns\n",
    "from scipy.stats import wilcoxon\n",
    "import community\n",
    "import scipy.sparse as sp\n",
    "import scipy.sparse.linalg as spalg\n",
    "import matplotlib.pyplot as plt\n",
    "import matplotlib.cm as cm\n",
    "%matplotlib inline"
   ]
  },
  {
   "cell_type": "code",
   "execution_count": 710,
   "metadata": {},
   "outputs": [],
   "source": [
    "def compute_alpha(n, S_d, d_min=2):\n",
    "    \"\"\"\n",
    "    Approximate the alpha of a power law distribution.\n",
    "    Parameters\n",
    "    ----------\n",
    "    n: int or np.array of int\n",
    "        Number of entries that are larger than or equal to d_min\n",
    "    S_d: float or np.array of float\n",
    "         Sum of log degrees in the distribution that are larger than or equal to d_min\n",
    "    d_min: int\n",
    "        The minimum degree of nodes to consider\n",
    "    Returns\n",
    "    -------\n",
    "    alpha: float\n",
    "        The estimated alpha of the power law distribution\n",
    "    \"\"\"\n",
    "\n",
    "    return n / (S_d - n * np.log(d_min - 0.5)) + 1\n",
    "\n",
    "def compute_log_likelihood(n, alpha, S_d, d_min=2):\n",
    "    \"\"\"\n",
    "    Compute log likelihood of the powerlaw fit.\n",
    "    Parameters\n",
    "    ----------\n",
    "    n: int\n",
    "        Number of entries in the old distribution that are larger than or equal to d_min.\n",
    "    alpha: float\n",
    "        The estimated alpha of the power law distribution\n",
    "    S_d: float\n",
    "         Sum of log degrees in the distribution that are larger than or equal to d_min.\n",
    "    d_min: int\n",
    "        The minimum degree of nodes to consider\n",
    "    Returns\n",
    "    -------\n",
    "    float: the estimated log likelihood\n",
    "    \"\"\"\n",
    "\n",
    "    return n * np.log(alpha) + n * alpha * np.log(d_min) + (alpha + 1) * S_d\n",
    "\n",
    "def filter_chisquare(ll_ratios, delta_cutoff=0.004):\n",
    "    return ll_ratios < delta_cutoff"
   ]
  },
  {
   "cell_type": "code",
   "execution_count": 711,
   "metadata": {},
   "outputs": [],
   "source": [
    "delta_cutoff = 0.004\n",
    "d_min = 2\n",
    "\n",
    "G_cora = nx.read_edgelist('../data/cora/cora.cites')\n",
    "G_citeseer = nx.read_edgelist('../data/citeseer/citeseer.cites')\n",
    "\n",
    "A_cora = nx.adjacency_matrix(G_cora)\n",
    "A_citeseer = nx.adjacency_matrix(G_citeseer)\n",
    "\n",
    "degrees_cora = np.asarray(np.sum(A_cora, axis=1)).reshape(-1)\n",
    "degrees_citeseer = np.asarray(np.sum(A_citeseer, axis=1)).reshape(-1)\n",
    "\n",
    "S_d_cora = np.sum(np.log(degrees_cora[degrees_cora >= d_min]))\n",
    "S_d_citeseer = np.sum(np.log(degrees_citeseer[degrees_citeseer >= d_min]))\n",
    "\n",
    "n_cora = np.sum(degrees_cora >= d_min)\n",
    "n_citeseer = np.sum(degrees_citeseer >= d_min)\n",
    "\n",
    "alpha_cora = compute_alpha(n_cora, S_d_cora, d_min)\n",
    "alpha_citeseer = compute_alpha(n_citeseer, S_d_citeseer, d_min)\n",
    "\n",
    "log_likelihood_cora = compute_log_likelihood(n_cora, alpha_cora, S_d_cora, d_min)\n",
    "log_likelihood_citeseer = compute_log_likelihood(n_citeseer, alpha_citeseer, S_d_citeseer, d_min)\n",
    "\n",
    "alphas_combined = compute_alpha(n_cora + n_citeseer, S_d_cora + S_d_citeseer, d_min)\n",
    "ll_combined = compute_log_likelihood(n_cora + n_citeseer, alphas_combined, S_d_cora + S_d_citeseer, d_min)\n",
    "\n",
    "ratios = -2 * ll_combined + 2 * (log_likelihood_cora + log_likelihood_citeseer)"
   ]
  },
  {
   "cell_type": "code",
   "execution_count": 712,
   "metadata": {},
   "outputs": [
    {
     "data": {
      "text/plain": [
       "2.1840630597182678"
      ]
     },
     "execution_count": 712,
     "metadata": {},
     "output_type": "execute_result"
    }
   ],
   "source": [
    "alphas_combined"
   ]
  },
  {
   "cell_type": "code",
   "execution_count": 713,
   "metadata": {},
   "outputs": [
    {
     "data": {
      "text/plain": [
       "13942.75280119968"
      ]
     },
     "execution_count": 713,
     "metadata": {},
     "output_type": "execute_result"
    }
   ],
   "source": [
    "log_likelihood_cora"
   ]
  },
  {
   "cell_type": "code",
   "execution_count": 660,
   "metadata": {},
   "outputs": [],
   "source": [
    "ccoefs_cora = np.array(list(nx.clustering(G_cora, nodes=G_cora.nodes, weight=None).values()))\n",
    "ccoefs_citeseer = np.array(list(nx.clustering(G_citeseer, nodes=G_citeseer.nodes, weight=None).values()))"
   ]
  },
  {
   "cell_type": "code",
   "execution_count": 661,
   "metadata": {},
   "outputs": [
    {
     "data": {
      "text/plain": [
       "0.24067329850193736"
      ]
     },
     "execution_count": 661,
     "metadata": {},
     "output_type": "execute_result"
    }
   ],
   "source": [
    "np.mean(ccoefs_cora)"
   ]
  },
  {
   "cell_type": "code",
   "execution_count": 662,
   "metadata": {},
   "outputs": [
    {
     "data": {
      "text/plain": [
       "0.2406732985019372"
      ]
     },
     "execution_count": 662,
     "metadata": {},
     "output_type": "execute_result"
    }
   ],
   "source": [
    "nx.average_clustering(G_cora)"
   ]
  },
  {
   "cell_type": "code",
   "execution_count": 663,
   "metadata": {},
   "outputs": [
    {
     "data": {
      "text/plain": [
       "<seaborn.axisgrid.FacetGrid at 0x7f81dd447390>"
      ]
     },
     "execution_count": 663,
     "metadata": {},
     "output_type": "execute_result"
    },
    {
     "data": {
      "image/png": "[encoded data removed]",
      "text/plain": [
       "<Figure size 360x360 with 1 Axes>"
      ]
     },
     "metadata": {
      "needs_background": "light"
     },
     "output_type": "display_data"
    }
   ],
   "source": [
    "sns.displot(ccoefs_cora)"
   ]
  },
  {
   "cell_type": "code",
   "execution_count": 664,
   "metadata": {},
   "outputs": [
    {
     "data": {
      "text/plain": [
       "<seaborn.axisgrid.FacetGrid at 0x7f81de0fc8d0>"
      ]
     },
     "execution_count": 664,
     "metadata": {},
     "output_type": "execute_result"
    },
    {
     "data": {
      "image/png": "[encoded data removed]",
      "text/plain": [
       "<Figure size 360x360 with 1 Axes>"
      ]
     },
     "metadata": {
      "needs_background": "light"
     },
     "output_type": "display_data"
    }
   ],
   "source": [
    "sns.displot(ccoefs_citeseer)"
   ]
  },
  {
   "cell_type": "code",
   "execution_count": 631,
   "metadata": {},
   "outputs": [
    {
     "ename": "NameError",
     "evalue": "name 'ccoefs_cora_new' is not defined",
     "output_type": "error",
     "traceback": [
      "\u001b[0;31m---------------------------------------------------------------------------\u001b[0m",
      "\u001b[0;31mNameError\u001b[0m                                 Traceback (most recent call last)",
      "\u001b[0;32m<ipython-input-631-f7b3c54e3b47>\u001b[0m in \u001b[0;36m<module>\u001b[0;34m()\u001b[0m\n\u001b[0;32m----> 1\u001b[0;31m \u001b[0mw\u001b[0m\u001b[0;34m,\u001b[0m \u001b[0mp\u001b[0m \u001b[0;34m=\u001b[0m \u001b[0mwilcoxon\u001b[0m\u001b[0;34m(\u001b[0m\u001b[0mccoefs_cora\u001b[0m \u001b[0;34m-\u001b[0m \u001b[0mccoefs_cora_new\u001b[0m\u001b[0;34m)\u001b[0m\u001b[0;34m\u001b[0m\u001b[0;34m\u001b[0m\u001b[0m\n\u001b[0m",
      "\u001b[0;31mNameError\u001b[0m: name 'ccoefs_cora_new' is not defined"
     ]
    }
   ],
   "source": [
    "w, p = wilcoxon(ccoefs_cora - ccoefs_cora_new)"
   ]
  },
  {
   "cell_type": "code",
   "execution_count": 632,
   "metadata": {},
   "outputs": [
    {
     "ename": "NameError",
     "evalue": "name 'w' is not defined",
     "output_type": "error",
     "traceback": [
      "\u001b[0;31m---------------------------------------------------------------------------\u001b[0m",
      "\u001b[0;31mNameError\u001b[0m                                 Traceback (most recent call last)",
      "\u001b[0;32m<ipython-input-632-33548fbba7f4>\u001b[0m in \u001b[0;36m<module>\u001b[0;34m()\u001b[0m\n\u001b[0;32m----> 1\u001b[0;31m \u001b[0mw\u001b[0m\u001b[0;34m,\u001b[0m \u001b[0mp\u001b[0m\u001b[0;34m\u001b[0m\u001b[0;34m\u001b[0m\u001b[0m\n\u001b[0m",
      "\u001b[0;31mNameError\u001b[0m: name 'w' is not defined"
     ]
    }
   ],
   "source": [
    "w, p "
   ]
  },
  {
   "cell_type": "code",
   "execution_count": 633,
   "metadata": {},
   "outputs": [
    {
     "data": {
      "text/plain": [
       "False"
      ]
     },
     "execution_count": 633,
     "metadata": {},
     "output_type": "execute_result"
    }
   ],
   "source": [
    "filter_chisquare(ratios)"
   ]
  },
  {
   "cell_type": "code",
   "execution_count": 715,
   "metadata": {},
   "outputs": [],
   "source": [
    "delta_cutoff = 0.004\n",
    "d_min = 2\n",
    "\n",
    "G_cora = nx.read_edgelist('../data/cora/cora.cites')\n",
    "G_cora_copy = nx.read_edgelist('../data/cora/cora.cites')\n",
    "G_cora_copy.add_edge('35', '815073')\n",
    "G_cora_copy.add_edge('103482', '1102364')\n",
    "G_cora_copy.add_edge('35', '1102364')\n",
    "\n",
    "\n",
    "\n",
    "A_cora = nx.adjacency_matrix(G_cora)\n",
    "A_cora_copy = nx.adjacency_matrix(G_cora_copy)\n",
    "\n",
    "degrees_cora = np.asarray(np.sum(A_cora, axis=1)).reshape(-1)\n",
    "degrees_cora_copy = np.asarray(np.sum(A_cora_copy, axis=1)).reshape(-1)\n",
    "\n",
    "S_d_cora = np.sum(np.log(degrees_cora[degrees_cora >= d_min]))\n",
    "S_d_cora_copy = np.sum(np.log(degrees_cora_copy[degrees_cora_copy >= d_min]))\n",
    "\n",
    "n_cora = np.sum(degrees_cora >= d_min)\n",
    "n_cora_copy = np.sum(degrees_cora_copy >= d_min)\n",
    "\n",
    "alpha_cora = compute_alpha(n_cora, S_d_cora, d_min)\n",
    "alpha_cora_copy = compute_alpha(n_cora_copy, S_d_cora_copy, d_min)\n",
    "\n",
    "log_likelihood_cora = compute_log_likelihood(n_cora, alpha_cora, S_d_cora, d_min)\n",
    "log_likelihood_cora_copy = compute_log_likelihood(n_cora_copy, alpha_cora_copy, S_d_cora_copy, d_min)\n",
    "\n",
    "alphas_combined = compute_alpha(n_cora + n_cora_copy, S_d_cora + S_d_cora_copy, d_min)\n",
    "ll_combined = compute_log_likelihood(n_cora + n_cora_copy, alphas_combined, S_d_cora + S_d_cora_copy, d_min)\n",
    "\n",
    "ratios = -2 * ll_combined + 2 * (log_likelihood_cora + log_likelihood_cora_copy)"
   ]
  },
  {
   "cell_type": "code",
   "execution_count": 719,
   "metadata": {},
   "outputs": [
    {
     "data": {
      "text/plain": [
       "array([168,   5,   6, ...,   4,   4,   2])"
      ]
     },
     "execution_count": 719,
     "metadata": {},
     "output_type": "execute_result"
    }
   ],
   "source": [
    "np.array([min(z) for z in map(lambda x, y:(x,y), degrees_cora, degrees_cora_copy)])"
   ]
  },
  {
   "cell_type": "code",
   "execution_count": 720,
   "metadata": {},
   "outputs": [
    {
     "data": {
      "text/plain": [
       "array([-2,  0, -1, ...,  0,  0,  0])"
      ]
     },
     "execution_count": 720,
     "metadata": {},
     "output_type": "execute_result"
    }
   ],
   "source": [
    "degrees_cora - degrees_cora_copy"
   ]
  },
  {
   "cell_type": "code",
   "execution_count": 635,
   "metadata": {},
   "outputs": [
    {
     "data": {
      "text/plain": [
       "5.3660740377381444e-05"
      ]
     },
     "execution_count": 635,
     "metadata": {},
     "output_type": "execute_result"
    }
   ],
   "source": [
    "ratios\n",
    "# filter_chisquare(ratios)"
   ]
  },
  {
   "cell_type": "code",
   "execution_count": 95,
   "metadata": {},
   "outputs": [
    {
     "data": {
      "text/plain": [
       "2.109672304917872"
      ]
     },
     "execution_count": 95,
     "metadata": {},
     "output_type": "execute_result"
    }
   ],
   "source": [
    "alpha_cora"
   ]
  },
  {
   "cell_type": "code",
   "execution_count": 82,
   "metadata": {},
   "outputs": [
    {
     "data": {
      "text/plain": [
       "169"
      ]
     },
     "execution_count": 82,
     "metadata": {},
     "output_type": "execute_result"
    }
   ],
   "source": [
    "G_cora_copy.degree('35')"
   ]
  },
  {
   "cell_type": "code",
   "execution_count": 683,
   "metadata": {},
   "outputs": [
    {
     "name": "stderr",
     "output_type": "stream",
     "text": [
      "/home/tduricic/Development/tools/anaconda3/envs/structack/lib/python3.6/site-packages/scipy/stats/morestats.py:2971: UserWarning: Sample size too small for normal approximation.\n",
      "  warnings.warn(\"Sample size too small for normal approximation.\")\n",
      "/home/tduricic/Development/tools/anaconda3/envs/structack/lib/python3.6/site-packages/ipykernel_launcher.py:11: RuntimeWarning: invalid value encountered in true_divide\n",
      "  # This is added back by InteractiveShellApp.init_path()\n"
     ]
    }
   ],
   "source": [
    "G_cora_degree_centralities = np.array(list(nx.degree_centrality(G_cora).values()))\n",
    "G_cora_copy_degree_centralities = np.array(list(nx.degree_centrality(G_cora_copy).values()))\n",
    "\n",
    "G_cora_clustering_coefficients = np.array(list(nx.clustering(G_cora).values()))\n",
    "G_cora_copy_clustering_coefficients = np.array(list(nx.clustering(G_cora_copy).values()))\n",
    "\n",
    "w_d, p_d = wilcoxon(G_cora_degree_centralities - G_cora_copy_degree_centralities)\n",
    "w_c, p_c = wilcoxon(G_cora_clustering_coefficients - G_cora_copy_clustering_coefficients)\n",
    "\n",
    "relative_degree_change = np.abs(G_cora_degree_centralities/G_cora_copy_degree_centralities - np.ones(len(G_cora_degree_centralities)))\n",
    "relative_ccoef_change = np.nan_to_num(np.abs(G_cora_clustering_coefficients/G_cora_copy_clustering_coefficients - np.ones(len(G_cora_clustering_coefficients))))"
   ]
  },
  {
   "cell_type": "code",
   "execution_count": 704,
   "metadata": {},
   "outputs": [
    {
     "name": "stdout",
     "output_type": "stream",
     "text": [
      "(0.9999425988935633, 0.0)\n",
      "SpearmanrResult(correlation=0.9995723215409741, pvalue=0.0)\n",
      "KendalltauResult(correlation=0.9992796665586081, pvalue=0.0)\n",
      "KstestResult(statistic=0.00036927621861152144, pvalue=0.9999999999999998)\n",
      "(0.9992084737181816, 0.0)\n",
      "SpearmanrResult(correlation=0.9998720613410308, pvalue=0.0)\n",
      "KendalltauResult(correlation=0.999645885907266, pvalue=0.0)\n",
      "KstestResult(statistic=0.00036927621861152144, pvalue=0.9999999999999998)\n"
     ]
    }
   ],
   "source": [
    "from scipy import stats\n",
    "from scipy.stats import pearsonr\n",
    "from scipy.stats import spearmanr\n",
    "from scipy.stats import kendalltau\n",
    "from scipy.stats import norm\n",
    "\n",
    "print(pearsonr(G_cora_degree_centralities, G_cora_copy_degree_centralities))\n",
    "print(spearmanr(G_cora_degree_centralities, G_cora_copy_degree_centralities))\n",
    "print(kendalltau(G_cora_degree_centralities, G_cora_copy_degree_centralities))\n",
    "print(stats.ks_2samp(G_cora_degree_centralities, G_cora_copy_degree_centralities))\n",
    "\n",
    "print(pearsonr(G_cora_clustering_coefficients, G_cora_copy_clustering_coefficients))\n",
    "print(spearmanr(G_cora_clustering_coefficients, G_cora_copy_clustering_coefficients))\n",
    "print(kendalltau(G_cora_clustering_coefficients, G_cora_copy_clustering_coefficients))\n",
    "print(stats.ks_2samp(G_cora_clustering_coefficients, G_cora_copy_clustering_coefficients))"
   ]
  },
  {
   "cell_type": "code",
   "execution_count": 708,
   "metadata": {},
   "outputs": [
    {
     "name": "stdout",
     "output_type": "stream",
     "text": [
      "0.00036927621861152144\n"
     ]
    }
   ],
   "source": [
    "print(stats.ks_2samp(G_cora_clustering_coefficients, G_cora_copy_clustering_coefficients)[0])"
   ]
  },
  {
   "cell_type": "code",
   "execution_count": 703,
   "metadata": {},
   "outputs": [
    {
     "name": "stderr",
     "output_type": "stream",
     "text": [
      "/home/tduricic/Development/tools/anaconda3/envs/structack/lib/python3.6/site-packages/seaborn/distributions.py:2551: FutureWarning: `distplot` is a deprecated function and will be removed in a future version. Please adapt your code to use either `displot` (a figure-level function with similar flexibility) or `histplot` (an axes-level function for histograms).\n",
      "  warnings.warn(msg, FutureWarning)\n"
     ]
    },
    {
     "data": {
      "text/plain": [
       "<AxesSubplot:ylabel='Density'>"
      ]
     },
     "execution_count": 703,
     "metadata": {},
     "output_type": "execute_result"
    },
    {
     "data": {
      "image/png": "[encoded data removed]",
      "text/plain": [
       "<Figure size 432x288 with 1 Axes>"
      ]
     },
     "metadata": {
      "needs_background": "light"
     },
     "output_type": "display_data"
    }
   ],
   "source": [
    "sns.distplot(G_cora_degree_centralities)"
   ]
  },
  {
   "cell_type": "code",
   "execution_count": 685,
   "metadata": {},
   "outputs": [
    {
     "name": "stdout",
     "output_type": "stream",
     "text": [
      "0.000426374390228765\n",
      "0.2886554621848739\n",
      "0.000769693373263905\n",
      "0.6947765515995515\n"
     ]
    },
    {
     "data": {
      "text/plain": [
       "0.24043055816946912"
      ]
     },
     "execution_count": 685,
     "metadata": {},
     "output_type": "execute_result"
    }
   ],
   "source": [
    "print(np.mean(relative_degree_change))\n",
    "print(np.nanmean(np.where(relative_degree_change!=0,relative_degree_change,np.nan),0))\n",
    "print(np.mean(relative_ccoef_change))\n",
    "print(np.nanmean(np.where(relative_ccoef_change!=0,relative_ccoef_change,np.nan),0))"
   ]
  },
  {
   "cell_type": "code",
   "execution_count": 675,
   "metadata": {},
   "outputs": [
    {
     "data": {
      "text/plain": [
       "array([0.01176471,        nan, 0.14285714, ...,        nan,        nan,\n",
       "              nan])"
      ]
     },
     "execution_count": 675,
     "metadata": {},
     "output_type": "execute_result"
    }
   ],
   "source": []
  },
  {
   "cell_type": "raw",
   "metadata": {},
   "source": [
    "print(p_d < 0.05, p_c < 0.05)"
   ]
  },
  {
   "cell_type": "code",
   "execution_count": 648,
   "metadata": {},
   "outputs": [
    {
     "data": {
      "text/plain": [
       "array([0.00073883, 0.        , 0.00036941, ..., 0.        , 0.        ,\n",
       "       0.        ])"
      ]
     },
     "execution_count": 648,
     "metadata": {},
     "output_type": "execute_result"
    }
   ],
   "source": [
    "G_cora_copy_degree_centralities - G_cora_degree_centralities"
   ]
  },
  {
   "cell_type": "code",
   "execution_count": 19,
   "metadata": {},
   "outputs": [],
   "source": [
    "adj = nx.to_scipy_sparse_matrix(G_cora)"
   ]
  },
  {
   "cell_type": "code",
   "execution_count": 59,
   "metadata": {},
   "outputs": [],
   "source": [
    "# sigma = D^-1/2 (alpha^4*A^4 + alpha^3*A^3 + alpha^2*A^2 + alpha*A + I) * D^-1/2"
   ]
  },
  {
   "cell_type": "code",
   "execution_count": 104,
   "metadata": {},
   "outputs": [],
   "source": [
    "rows = [0,5,7]\n",
    "alpha = 0.1\n",
    "n_steps = 4\n",
    "temp_sum = 0\n",
    "for i in range(1, n_steps):\n",
    "    temp_sum += alpha**i*adj**i\n",
    "D_sqrt = nx.linalg.laplacianmatrix.laplacian_matrix(G_cora) + adj\n",
    "D_sqrt.data = np.sqrt(D_sqrt.data)\n",
    "sigma = D_sqrt*(temp_sum + sp.sparse.identity(adj.shape[0], format='csr'))*D_sqrt\n",
    "cols = []\n",
    "for i in rows:\n",
    "    cols.append(np.sort(sigma[i,:].nonzero()[1])[sigma[sigma[i,:].nonzero()[0], np.sort(sigma[i,:].nonzero()[1])].argmin()])"
   ]
  },
  {
   "cell_type": "code",
   "execution_count": 105,
   "metadata": {},
   "outputs": [
    {
     "data": {
      "text/plain": [
       "[982, 181, 186]"
      ]
     },
     "execution_count": 105,
     "metadata": {},
     "output_type": "execute_result"
    }
   ],
   "source": [
    "cols"
   ]
  },
  {
   "cell_type": "code",
   "execution_count": 101,
   "metadata": {},
   "outputs": [
    {
     "data": {
      "text/plain": [
       "982"
      ]
     },
     "execution_count": 101,
     "metadata": {},
     "output_type": "execute_result"
    }
   ],
   "source": [
    "np.sort(sigma[0,:].nonzero()[1])[509]"
   ]
  },
  {
   "cell_type": "code",
   "execution_count": 107,
   "metadata": {},
   "outputs": [
    {
     "data": {
      "text/plain": [
       "0.008485281374238571"
      ]
     },
     "execution_count": 107,
     "metadata": {},
     "output_type": "execute_result"
    }
   ],
   "source": [
    "sigma[7,186]"
   ]
  },
  {
   "cell_type": "code",
   "execution_count": 103,
   "metadata": {},
   "outputs": [
    {
     "data": {
      "text/plain": [
       "0.012961481396815723"
      ]
     },
     "execution_count": 103,
     "metadata": {},
     "output_type": "execute_result"
    }
   ],
   "source": [
    "sigma[sigma[0,:].nonzero()[0], np.sort(sigma[0,:].nonzero()[1])].argmin()\n",
    "sigma[sigma[0,:].nonzero()[0], np.sort(sigma[0,:].nonzero()[1])].min()"
   ]
  },
  {
   "cell_type": "code",
   "execution_count": 92,
   "metadata": {},
   "outputs": [
    {
     "data": {
      "text/plain": [
       "8.376015759297497"
      ]
     },
     "execution_count": 92,
     "metadata": {},
     "output_type": "execute_result"
    }
   ],
   "source": [
    "sigma[0,1]"
   ]
  },
  {
   "cell_type": "code",
   "execution_count": 78,
   "metadata": {},
   "outputs": [
    {
     "ename": "IndexError",
     "evalue": "too many indices for array: array is 1-dimensional, but 2 were indexed",
     "output_type": "error",
     "traceback": [
      "\u001b[0;31m---------------------------------------------------------------------------\u001b[0m",
      "\u001b[0;31mIndexError\u001b[0m                                Traceback (most recent call last)",
      "\u001b[0;32m<ipython-input-78-c6f8dadca715>\u001b[0m in \u001b[0;36m<module>\u001b[0;34m()\u001b[0m\n\u001b[0;32m----> 1\u001b[0;31m \u001b[0mnp\u001b[0m\u001b[0;34m.\u001b[0m\u001b[0msort\u001b[0m\u001b[0;34m(\u001b[0m\u001b[0msigma\u001b[0m\u001b[0;34m[\u001b[0m\u001b[0;36m0\u001b[0m\u001b[0;34m,\u001b[0m\u001b[0;34m:\u001b[0m\u001b[0;34m]\u001b[0m\u001b[0;34m.\u001b[0m\u001b[0mnonzero\u001b[0m\u001b[0;34m(\u001b[0m\u001b[0;34m)\u001b[0m\u001b[0;34m[\u001b[0m\u001b[0;36m1\u001b[0m\u001b[0;34m]\u001b[0m\u001b[0;34m)\u001b[0m\u001b[0;34m[\u001b[0m\u001b[0;36m0\u001b[0m\u001b[0;34m,\u001b[0m\u001b[0;36m0\u001b[0m\u001b[0;34m]\u001b[0m\u001b[0;34m\u001b[0m\u001b[0;34m\u001b[0m\u001b[0m\n\u001b[0m",
      "\u001b[0;31mIndexError\u001b[0m: too many indices for array: array is 1-dimensional, but 2 were indexed"
     ]
    }
   ],
   "source": [
    "sigma[sigma[i,:].nonzero()][0,0]"
   ]
  },
  {
   "cell_type": "code",
   "execution_count": 50,
   "metadata": {},
   "outputs": [
    {
     "data": {
      "text/plain": [
       "(1, 899)"
      ]
     },
     "execution_count": 50,
     "metadata": {},
     "output_type": "execute_result"
    }
   ],
   "source": [
    "sigma[sigma[0,:].nonzero()]"
   ]
  },
  {
   "cell_type": "code",
   "execution_count": 91,
   "metadata": {},
   "outputs": [
    {
     "name": "stdout",
     "output_type": "stream",
     "text": [
      "0.012961481396815723\n",
      "509\n",
      "8.376015759297497\n"
     ]
    }
   ],
   "source": [
    "print(sigma[sigma[0,:].nonzero()[0], np.sort(sigma[0,:].nonzero()[1])].min())\n",
    "print()\n",
    "print(sigma[sigma[0,:].nonzero()[0], np.sort(sigma[0,:].nonzero()[1])][0,1])"
   ]
  },
  {
   "cell_type": "code",
   "execution_count": 90,
   "metadata": {},
   "outputs": [
    {
     "name": "stdout",
     "output_type": "stream",
     "text": [
      "0.012961481396815723\n",
      "498\n",
      "0.2851525907299459\n"
     ]
    }
   ],
   "source": [
    "print(sigma[sigma[0,:].nonzero()[0], sigma[0,:].nonzero()[1]].min())\n",
    "print(sigma[sigma[0,:].nonzero()[0], sigma[0,:].nonzero()[1]].argmin())\n",
    "print(sigma[sigma[0,:].nonzero()[0], sigma[0,:].nonzero()[1]][0,1])"
   ]
  },
  {
   "cell_type": "code",
   "execution_count": 173,
   "metadata": {},
   "outputs": [
    {
     "data": {
      "text/plain": [
       "982"
      ]
     },
     "execution_count": 173,
     "metadata": {},
     "output_type": "execute_result"
    }
   ],
   "source": [
    "sigma[0,:].nonzero()[1][sigma[sigma[0,:].nonzero()].argmin()]"
   ]
  },
  {
   "cell_type": "code",
   "execution_count": 527,
   "metadata": {},
   "outputs": [
    {
     "data": {
      "text/plain": [
       "172"
      ]
     },
     "execution_count": 527,
     "metadata": {},
     "output_type": "execute_result"
    }
   ],
   "source": [
    "sigma.eliminate_zeros()\n",
    "sigma[0,:].argmin()"
   ]
  },
  {
   "cell_type": "code",
   "execution_count": 556,
   "metadata": {},
   "outputs": [],
   "source": [
    "A = nx.to_scipy_sparse_matrix(G_cora)\n",
    "G_cora = nx.from_scipy_sparse_matrix(A)"
   ]
  },
  {
   "cell_type": "code",
   "execution_count": 614,
   "metadata": {},
   "outputs": [],
   "source": [
    "node_community_mapping = community.community_louvain.best_partition(G_cora) "
   ]
  },
  {
   "cell_type": "code",
   "execution_count": 619,
   "metadata": {},
   "outputs": [
    {
     "data": {
      "text/plain": [
       "83"
      ]
     },
     "execution_count": 619,
     "metadata": {},
     "output_type": "execute_result"
    }
   ],
   "source": [
    "node_community_mapping[2567]"
   ]
  },
  {
   "cell_type": "code",
   "execution_count": null,
   "metadata": {},
   "outputs": [],
   "source": []
  },
  {
   "cell_type": "code",
   "execution_count": 620,
   "metadata": {},
   "outputs": [
    {
     "data": {
      "text/plain": [
       "[2567, 2568]"
      ]
     },
     "execution_count": 620,
     "metadata": {},
     "output_type": "execute_result"
    }
   ],
   "source": [
    "community_node_mapping[83]"
   ]
  },
  {
   "cell_type": "code",
   "execution_count": 621,
   "metadata": {},
   "outputs": [
    {
     "name": "stdout",
     "output_type": "stream",
     "text": [
      "0 8\n",
      "0 8\n",
      "0 8\n"
     ]
    }
   ],
   "source": [
    "community_node_mapping = {}\n",
    "community_edge_counts = {}\n",
    "\n",
    "for edge in G_cora.edges:\n",
    "    if node_community_mapping[edge[0]] not in community_node_mapping:\n",
    "        community_node_mapping[node_community_mapping[edge[0]]] = []\n",
    "    if node_community_mapping[edge[1]] not in community_node_mapping:\n",
    "        community_node_mapping[node_community_mapping[edge[1]]] = []\n",
    "    if edge[0] not in community_node_mapping[node_community_mapping[edge[0]]]:\n",
    "        community_node_mapping[node_community_mapping[edge[0]]].append(edge[0])\n",
    "    if edge[1] not in community_node_mapping[node_community_mapping[edge[1]]]:\n",
    "        community_node_mapping[node_community_mapping[edge[1]]].append(edge[1])\n",
    "    if node_community_mapping[edge[0]] == node_community_mapping[edge[1]]:\n",
    "        continue\n",
    "    if (node_community_mapping[edge[0]], node_community_mapping[edge[1]]) not in community_edge_counts:\n",
    "        community_edge_counts[(node_community_mapping[edge[0]], node_community_mapping[edge[1]])] = 0\n",
    "    if (node_community_mapping[edge[1]], node_community_mapping[edge[0]]) not in community_edge_counts:\n",
    "        community_edge_counts[(node_community_mapping[edge[1]], node_community_mapping[edge[0]])] = 0\n",
    "    community_edge_counts[(node_community_mapping[edge[0]], node_community_mapping[edge[1]])] += 1\n",
    "    community_edge_counts[(node_community_mapping[edge[1]], node_community_mapping[edge[0]])] += 1\n",
    "    \n",
    "adj_community_rows = []\n",
    "adj_community_cols = []\n",
    "adj_community_data = []\n",
    "\n",
    "for key in community_edge_counts:\n",
    "    adj_community_rows.append(key[0])\n",
    "    adj_community_cols.append(key[1])\n",
    "    adj_community_data.append(community_edge_counts[key])\n",
    "    \n",
    "adj_community = sp.sparse.csr_matrix((adj_community_data, (adj_community_rows, adj_community_cols)))\n",
    "adj_community = adj_community.toarray().astype('float')\n",
    "adj_community[adj_community == 0] = np.nan\n",
    "\n",
    "distant_communities = {}\n",
    "for community_id in range(adj_community.shape[0]):\n",
    "    distant_community_id = np.argpartition(adj_community[community_id], 1)[:1][0]\n",
    "    while distant_community_id == 0 or distant_community_id == community_id:\n",
    "        distant_community_id = np.random.choice(adj_community.shape[0], 1)[0]\n",
    "    distant_communities[community_id] = distant_community_id\n",
    "\n",
    "rows = [0,1,5]\n",
    "cols = []\n",
    "for node_id in rows:\n",
    "    community_id = node_community_mapping[node_id]\n",
    "    distant_community_id = distant_communities[community_id]\n",
    "    print(str(community_id) + ' ' + str(distant_community_id))\n",
    "    cols.append(np.random.choice(community_node_mapping[distant_community_id],1)[0])"
   ]
  },
  {
   "cell_type": "code",
   "execution_count": 592,
   "metadata": {},
   "outputs": [
    {
     "data": {
      "text/plain": [
       "[798, 1970, 1257]"
      ]
     },
     "execution_count": 592,
     "metadata": {},
     "output_type": "execute_result"
    }
   ],
   "source": [
    "cols"
   ]
  },
  {
   "cell_type": "code",
   "execution_count": 587,
   "metadata": {},
   "outputs": [],
   "source": []
  },
  {
   "cell_type": "code",
   "execution_count": 618,
   "metadata": {},
   "outputs": [
    {
     "name": "stdout",
     "output_type": "stream",
     "text": [
      "0  from  0  connected to  2397  from  8\n",
      "1  from  0  connected to  2428  from  8\n",
      "5  from  0  connected to  2040  from  8\n"
     ]
    }
   ],
   "source": [
    "for i in range(len(rows)):\n",
    "    print(rows[i], ' from ', node_community_mapping[rows[i]], ' connected to ', cols[i], ' from ', node_community_mapping[cols[i]])"
   ]
  },
  {
   "cell_type": "code",
   "execution_count": 486,
   "metadata": {},
   "outputs": [
    {
     "name": "stdout",
     "output_type": "stream",
     "text": [
      "[17  7 13 14  6]\n",
      "[1. 1. 1. 1. 2.]\n"
     ]
    }
   ],
   "source": [
    "idx = np.argpartition(adj_community[0], 5)\n",
    "print(idx[:5])\n",
    "print(adj_community[0][idx[:5]])"
   ]
  },
  {
   "cell_type": "code",
   "execution_count": 433,
   "metadata": {},
   "outputs": [
    {
     "data": {
      "text/plain": [
       "array([ 14,  20,  15,  18,   6,   7,  10,   3,   4,   9,   5,  11,  73,\n",
       "         1,  79,   2,  74,   8,  71,  75,  76,  77,  78,  65,  72,  81,\n",
       "        70,  69,  68,  67,  66,  89,  64,  63,  62,  80,  60,  82,  83,\n",
       "        84,  85,  86,  87,  88,  51,  90,  91,  92,  93,  94,  95,  96,\n",
       "        97,  98,  99, 100, 101, 102,  61,   0,  59,  58,  57,  56,  55,\n",
       "        54,  53,  52,  50,  49,  48,  47,  46,  45,  44,  43,  42,  41,\n",
       "        40,  39,  38,  37,  36,  35,  34,  33,  32,  31,  30,  29,  28,\n",
       "        27,  26,  25,  24,  23,  22,  21,  19,  17,  16,  13,  12, 103])"
      ]
     },
     "execution_count": 433,
     "metadata": {},
     "output_type": "execute_result"
    }
   ],
   "source": [
    "idx"
   ]
  },
  {
   "cell_type": "code",
   "execution_count": 418,
   "metadata": {},
   "outputs": [],
   "source": [
    "ind = np.argpartition(adj_community, 1, axis=1)[:, : - 1]\n",
    "rows = np.arange(adj_community.shape[0])[:, None]\n",
    "adj_community[rows, ind] = 0"
   ]
  },
  {
   "cell_type": "code",
   "execution_count": 419,
   "metadata": {},
   "outputs": [
    {
     "data": {
      "text/plain": [
       "array([       0,        0,        0,        0,        0,        0,\n",
       "              0,        0,        0,        0,        0,        0,\n",
       "              0,        0,        0,        0,        0,        0,\n",
       "              0,        0,        0,        0,        0,        0,\n",
       "              0,        0,        0,        0,        0,        0,\n",
       "              0,        0,        0,        0,        0,        0,\n",
       "              0,        0,        0,        0,        0,        0,\n",
       "              0,        0,        0,        0,        0,        0,\n",
       "              0,        0,        0,        0,        0,        0,\n",
       "              0,        0,        0,        0,        0,        0,\n",
       "              0,        0,        0,        0,        0,        0,\n",
       "              0,        0,        0,        0,        0,        0,\n",
       "              0,        0,        0,        0,        0,        0,\n",
       "              0,        0,        0,        0,        0,        0,\n",
       "              0,        0,        0,        0,        0,        0,\n",
       "              0,        0,        0,        0,        0,        0,\n",
       "              0,        0,        0,        0,        0,        0,\n",
       "              0, 10000000])"
      ]
     },
     "execution_count": 419,
     "metadata": {},
     "output_type": "execute_result"
    }
   ],
   "source": [
    "adj_community[0]"
   ]
  },
  {
   "cell_type": "code",
   "execution_count": 319,
   "metadata": {},
   "outputs": [
    {
     "data": {
      "text/plain": [
       "array([[ 0,  7,  3,  2,  3,  5,  7,  8, 15,  7,  0,  1,  2,  0,  0,  1,\n",
       "         0,  0,  0,  1,  0,  1,  0,  0,  0,  0,  0,  0,  0,  0,  0,  0,\n",
       "         0,  0,  0,  0,  0,  0,  0,  0,  0,  0,  0,  0,  0,  0,  0,  0,\n",
       "         0,  0,  0,  0,  0,  0,  0,  0,  0,  0,  0,  0,  0,  0,  0,  0,\n",
       "         0,  0,  0,  0,  0,  0,  0,  0,  0,  0,  0,  0,  0,  0,  0,  0,\n",
       "         0,  0,  0,  0,  0,  0,  0,  0,  0,  0,  0,  0,  0,  0,  0,  0,\n",
       "         0,  0,  0,  0,  0,  0,  0]])"
      ]
     },
     "execution_count": 319,
     "metadata": {},
     "output_type": "execute_result"
    }
   ],
   "source": [
    "adj_community[0].toarray()"
   ]
  },
  {
   "cell_type": "code",
   "execution_count": 289,
   "metadata": {},
   "outputs": [],
   "source": [
    "adj_community[adj_community>=adj_community[np.arange(len(adj_community)), np.argpartition(adj_community,3,axis=1)[:,3],None]] = 0"
   ]
  },
  {
   "cell_type": "code",
   "execution_count": 290,
   "metadata": {},
   "outputs": [
    {
     "data": {
      "text/plain": [
       "array([0, 0, 0, 0, 0, 0, 0, 0, 0, 0, 0, 0, 0, 0, 0, 0, 0, 0, 0, 0, 0, 0,\n",
       "       0, 0, 0, 0, 0, 0, 0, 0, 0, 0, 0, 0, 0, 0, 0, 0, 0, 0, 0, 0, 0, 0,\n",
       "       0, 0, 0, 0, 0, 0, 0, 0, 0, 0, 0, 0, 0, 0, 0, 0, 0, 0, 0, 0, 0, 0,\n",
       "       0, 0, 0, 0, 0, 0, 0, 0, 0, 0, 0, 0, 0, 0, 0, 0, 0, 0, 0, 0, 0, 0,\n",
       "       0, 0, 0, 0, 0, 0, 0, 0, 0, 0, 0, 0, 0, 0, 0])"
      ]
     },
     "execution_count": 290,
     "metadata": {},
     "output_type": "execute_result"
    }
   ],
   "source": [
    "adj_community[0]"
   ]
  },
  {
   "cell_type": "code",
   "execution_count": 263,
   "metadata": {},
   "outputs": [
    {
     "data": {
      "text/plain": [
       "numpy.ndarray"
      ]
     },
     "execution_count": 263,
     "metadata": {},
     "output_type": "execute_result"
    }
   ],
   "source": [
    "type(adj_community)"
   ]
  },
  {
   "cell_type": "code",
   "execution_count": 292,
   "metadata": {},
   "outputs": [
    {
     "data": {
      "text/plain": [
       "array([[1, 0, 0, 0, 0],\n",
       "       [0, 3, 0, 1, 0],\n",
       "       [0, 0, 3, 1, 2]])"
      ]
     },
     "execution_count": 292,
     "metadata": {},
     "output_type": "execute_result"
    }
   ],
   "source": [
    "a = np.array([[1, 3, 3, 3, 5],\n",
    "       [4, 3, 6, 1, 0],\n",
    "       [6, 5, 3, 1, 2]])\n",
    "a[a>=a[np.arange(len(a)), np.argpartition(a,3,axis=1)[:,3],None]] = 0\n",
    "a"
   ]
  },
  {
   "cell_type": "code",
   "execution_count": 264,
   "metadata": {},
   "outputs": [
    {
     "data": {
      "text/plain": [
       "numpy.ndarray"
      ]
     },
     "execution_count": 264,
     "metadata": {},
     "output_type": "execute_result"
    }
   ],
   "source": [
    "type(a)"
   ]
  },
  {
   "cell_type": "code",
   "execution_count": 190,
   "metadata": {},
   "outputs": [
    {
     "data": {
      "text/plain": [
       "0.0048989794855663574"
      ]
     },
     "execution_count": 190,
     "metadata": {},
     "output_type": "execute_result"
    }
   ],
   "source": [
    "sigma[0,982]\n",
    "sigma[5,2247]\n",
    "sigma[7,1284]"
   ]
  },
  {
   "cell_type": "code",
   "execution_count": 126,
   "metadata": {},
   "outputs": [],
   "source": [
    "dd = [min_sparse(x) for x in (sigma.getrow(i) for i in range(sigma.shape[0]))]"
   ]
  },
  {
   "cell_type": "code",
   "execution_count": 149,
   "metadata": {},
   "outputs": [
    {
     "data": {
      "text/plain": [
       "328"
      ]
     },
     "execution_count": 149,
     "metadata": {},
     "output_type": "execute_result"
    }
   ],
   "source": [
    "sigma[1,:].nonzero()[1][sigma[sigma[1,:].nonzero()].argmin()]"
   ]
  },
  {
   "cell_type": "code",
   "execution_count": 181,
   "metadata": {},
   "outputs": [
    {
     "data": {
      "text/plain": [
       "328"
      ]
     },
     "execution_count": 181,
     "metadata": {},
     "output_type": "execute_result"
    }
   ],
   "source": [
    "sigma[1,:].nonzero()[1][sigma[sigma[1,:].nonzero()].argmin()]"
   ]
  },
  {
   "cell_type": "code",
   "execution_count": 182,
   "metadata": {},
   "outputs": [
    {
     "data": {
      "text/plain": [
       "0.0022360679774997903"
      ]
     },
     "execution_count": 182,
     "metadata": {},
     "output_type": "execute_result"
    }
   ],
   "source": [
    "sigma[1,328]"
   ]
  },
  {
   "cell_type": "code",
   "execution_count": 169,
   "metadata": {},
   "outputs": [
    {
     "data": {
      "text/plain": [
       "(2708, 2708)"
      ]
     },
     "execution_count": 169,
     "metadata": {},
     "output_type": "execute_result"
    }
   ],
   "source": [
    "sigma.shape"
   ]
  },
  {
   "cell_type": "code",
   "execution_count": 117,
   "metadata": {},
   "outputs": [],
   "source": [
    "col_argmax = [sigma.getcol(i).A.argmax() for i in range(A.shape[1])]"
   ]
  },
  {
   "cell_type": "code",
   "execution_count": 136,
   "metadata": {},
   "outputs": [],
   "source": [
    "theta = np.array([0,1,2,3]).reshape(4,1)"
   ]
  },
  {
   "cell_type": "code",
   "execution_count": 137,
   "metadata": {},
   "outputs": [
    {
     "data": {
      "text/plain": [
       "0"
      ]
     },
     "execution_count": 137,
     "metadata": {},
     "output_type": "execute_result"
    }
   ],
   "source": [
    "np.argmin(theta[np.nonzero(theta)])"
   ]
  },
  {
   "cell_type": "code",
   "execution_count": 139,
   "metadata": {},
   "outputs": [],
   "source": [
    "i,j = np.where( theta==np.min(theta[np.nonzero(theta)]))"
   ]
  },
  {
   "cell_type": "code",
   "execution_count": 140,
   "metadata": {},
   "outputs": [
    {
     "data": {
      "text/plain": [
       "(array([1]), array([0]))"
      ]
     },
     "execution_count": 140,
     "metadata": {},
     "output_type": "execute_result"
    }
   ],
   "source": [
    "i,j"
   ]
  },
  {
   "cell_type": "code",
   "execution_count": 727,
   "metadata": {},
   "outputs": [],
   "source": [
    "from scipy import sparse\n",
    "G = nx.karate_club_graph()"
   ]
  },
  {
   "cell_type": "code",
   "execution_count": 728,
   "metadata": {},
   "outputs": [],
   "source": [
    "A = nx.to_numpy_matrix(G)"
   ]
  },
  {
   "cell_type": "code",
   "execution_count": 732,
   "metadata": {},
   "outputs": [],
   "source": [
    "sA = sp.csr_matrix(A)"
   ]
  },
  {
   "cell_type": "code",
   "execution_count": 870,
   "metadata": {},
   "outputs": [],
   "source": [
    "def katz_connection(adj, nodes, n_perturbations, threshold=0.000001, nsteps=10000):\n",
    "    graph = nx.from_scipy_sparse_matrix(adj, create_using=nx.Graph)\n",
    "    rows = nodes[:n_perturbations]\n",
    "    D = nx.linalg.laplacianmatrix.laplacian_matrix(graph) + adj\n",
    "    D_inv = spalg.inv(D)\n",
    "    D_invA = D_inv * adj\n",
    "    l,v = spalg.eigs(D_invA, k=1, which=\"LR\")\n",
    "    lmax = l[0].real\n",
    "    alpha = (1/lmax) * 0.9\n",
    "    sigma = sp.csr_matrix(D_invA.shape, dtype=np.float)\n",
    "    print('Calculate sigma matrix')\n",
    "    for i in range(nsteps):\n",
    "        sigma_new = alpha *D_invA*sigma + sp.identity(adj.shape[0], dtype=np.float, format='csr')\n",
    "        diff = abs(spalg.norm(sigma, 1) - spalg.norm(sigma_new, 1))\n",
    "        sigma = sigma_new\n",
    "        print(diff)\n",
    "        if diff < threshold:\n",
    "            break\n",
    "        print('Number of steps taken: ' + str(i))\n",
    "    cols = []\n",
    "    for i in rows:\n",
    "        cols.append(np.argmin(sigma[i, :].todense(), axis=1)[0,0])\n",
    "    return sigma, [[u, v] for u, v in zip(rows, cols)]\n",
    "\n",
    "def community_connection(adj, nodes, n_perturbations):\n",
    "    graph = nx.from_scipy_sparse_matrix(adj, create_using=nx.Graph)\n",
    "    rows = nodes[:n_perturbations]\n",
    "\n",
    "    node_community_mapping = community.community_louvain.best_partition(graph)\n",
    "    \n",
    "    community_node_mapping = {}\n",
    "    community_edge_counts = {}\n",
    "    communities = list(set(node_community_mapping.values()))\n",
    "    for source_community in communities:\n",
    "        for target_community in communities:\n",
    "            community_edge_counts[(source_community, target_community)] = 0\n",
    "            community_edge_counts[(target_community, source_community)] = 0\n",
    "\n",
    "    for edge in graph.edges:\n",
    "        if node_community_mapping[edge[0]] not in community_node_mapping:\n",
    "            community_node_mapping[node_community_mapping[edge[0]]] = []\n",
    "        if node_community_mapping[edge[1]] not in community_node_mapping:\n",
    "            community_node_mapping[node_community_mapping[edge[1]]] = []\n",
    "        if edge[0] not in community_node_mapping[node_community_mapping[edge[0]]]:\n",
    "            community_node_mapping[node_community_mapping[edge[0]]].append(edge[0])\n",
    "        if edge[1] not in community_node_mapping[node_community_mapping[edge[1]]]:\n",
    "            community_node_mapping[node_community_mapping[edge[1]]].append(edge[1])\n",
    "        community_edge_counts[(node_community_mapping[edge[0]], node_community_mapping[edge[1]])] += 1\n",
    "        community_edge_counts[(node_community_mapping[edge[1]], node_community_mapping[edge[0]])] += 1\n",
    "\n",
    "    adj_community_rows = []\n",
    "    adj_community_cols = []\n",
    "    adj_community_data = []\n",
    "\n",
    "    for key in community_edge_counts:\n",
    "        adj_community_rows.append(key[0])\n",
    "        adj_community_cols.append(key[1])\n",
    "        adj_community_data.append(community_edge_counts[key])\n",
    "\n",
    "    adj_community = sp.csr_matrix((adj_community_data, (adj_community_rows, adj_community_cols)))\n",
    "    adj_community = adj_community.toarray().astype('float')\n",
    "\n",
    "    distant_communities = {}\n",
    "    for community_id in range(adj_community.shape[0]):\n",
    "        distant_community_id = np.random.choice(np.argwhere(adj_community[community_id,:]==np.min(adj_community[community_id,:])).flatten(), 1)[0]\n",
    "        distant_communities[community_id] = distant_community_id\n",
    "\n",
    "    cols = []\n",
    "    for node_id in rows:\n",
    "        community_id = node_community_mapping[node_id]\n",
    "        distant_community_id = distant_communities[community_id]\n",
    "        cols.append(np.random.choice(community_node_mapping[distant_community_id], 1)[0])\n",
    "    return [[u, v] for u, v in zip(rows, cols)]"
   ]
  },
  {
   "cell_type": "code",
   "execution_count": 871,
   "metadata": {},
   "outputs": [
    {
     "name": "stderr",
     "output_type": "stream",
     "text": [
      "/home/tduricic/Development/tools/anaconda3/envs/structack/lib/python3.6/site-packages/scipy/sparse/linalg/dsolve/linsolve.py:318: SparseEfficiencyWarning: splu requires CSC matrix format\n",
      "  warn('splu requires CSC matrix format', SparseEfficiencyWarning)\n",
      "/home/tduricic/Development/tools/anaconda3/envs/structack/lib/python3.6/site-packages/scipy/sparse/linalg/dsolve/linsolve.py:216: SparseEfficiencyWarning: spsolve is more efficient when sparse b is in the CSC matrix format\n",
      "  'is in the CSC matrix format', SparseEfficiencyWarning)\n"
     ]
    },
    {
     "name": "stdout",
     "output_type": "stream",
     "text": [
      "Calculate sigma matrix\n",
      "1.0\n",
      "Number of steps taken: 0\n",
      "5.1900000000000075\n",
      "Number of steps taken: 1\n",
      "1.7732272058823542\n",
      "Number of steps taken: 2\n",
      "3.4132252500000124\n",
      "Number of steps taken: 3\n",
      "1.9098419274727068\n",
      "Number of steps taken: 4\n",
      "2.464269951694293\n",
      "Number of steps taken: 5\n",
      "1.7429330782705694\n",
      "Number of steps taken: 6\n",
      "1.8767503408873338\n",
      "Number of steps taken: 7\n",
      "1.4943603136251582\n",
      "Number of steps taken: 8\n",
      "1.4729572136576792\n",
      "Number of steps taken: 9\n",
      "1.2458952937937084\n",
      "Number of steps taken: 10\n",
      "1.174748779714811\n",
      "Number of steps taken: 11\n",
      "1.024707248179464\n",
      "Number of steps taken: 12\n",
      "0.944657862519211\n",
      "Number of steps taken: 13\n",
      "0.8369754388187367\n",
      "Number of steps taken: 14\n",
      "0.762747504713392\n",
      "Number of steps taken: 15\n",
      "0.6811599836325257\n",
      "Number of steps taken: 16\n",
      "0.6170805233656438\n",
      "Number of steps taken: 17\n",
      "0.5532687806194865\n",
      "Number of steps taken: 18\n",
      "0.4996845632329183\n",
      "Number of steps taken: 19\n",
      "0.44890315347565135\n",
      "Number of steps taken: 20\n",
      "0.40477821513090007\n",
      "Number of steps taken: 21\n",
      "0.36399899899878463\n",
      "Number of steps taken: 22\n",
      "0.3279428679819887\n",
      "Number of steps taken: 23\n",
      "0.29504517239963945\n",
      "Number of steps taken: 24\n",
      "0.26569943254516915\n",
      "Number of steps taken: 25\n",
      "0.23909967712866376\n",
      "Number of steps taken: 26\n",
      "0.2152655005050761\n",
      "Number of steps taken: 27\n",
      "0.19373452242894018\n",
      "Number of steps taken: 28\n",
      "0.1743985897769278\n",
      "Number of steps taken: 29\n",
      "0.15696171873761955\n",
      "Number of steps taken: 30\n",
      "0.14128482932744646\n",
      "Number of steps taken: 31\n",
      "0.12716052145670886\n",
      "Number of steps taken: 32\n",
      "0.11445474030890068\n",
      "Number of steps taken: 33\n",
      "0.10301278570214834\n",
      "Number of steps taken: 34\n",
      "0.09271715534391234\n",
      "Number of steps taken: 35\n",
      "0.0834479887483397\n",
      "Number of steps taken: 36\n",
      "0.07510637987749647\n",
      "Number of steps taken: 37\n",
      "0.06759746293072766\n",
      "Number of steps taken: 38\n",
      "0.0608395568011062\n",
      "Number of steps taken: 39\n",
      "0.05475671962060602\n",
      "Number of steps taken: 40\n",
      "0.0492821263630745\n",
      "Number of steps taken: 41\n",
      "0.044354624367819895\n",
      "Number of steps taken: 42\n",
      "0.03991980179034016\n",
      "Number of steps taken: 43\n",
      "0.03592826680389294\n",
      "Number of steps taken: 44\n",
      "0.03233582290857129\n",
      "Number of steps taken: 45\n",
      "0.029102517008631423\n",
      "Number of steps taken: 46\n",
      "0.02619249567933224\n",
      "Number of steps taken: 47\n",
      "0.02357341669483759\n",
      "Number of steps taken: 48\n",
      "0.021216214250500798\n",
      "Number of steps taken: 49\n",
      "0.019094697696218077\n",
      "Number of steps taken: 50\n",
      "0.017185312310751044\n",
      "Number of steps taken: 51\n",
      "0.015466845384146666\n",
      "Number of steps taken: 52\n",
      "0.013920212092450868\n",
      "Number of steps taken: 53\n",
      "0.012528230244498673\n",
      "Number of steps taken: 54\n",
      "0.011275438384600989\n",
      "Number of steps taken: 55\n",
      "0.010147918611210116\n",
      "Number of steps taken: 56\n",
      "0.009133145719687263\n",
      "Number of steps taken: 57\n",
      "0.008219845849168905\n",
      "Number of steps taken: 58\n",
      "0.007397872818174278\n",
      "Number of steps taken: 59\n",
      "0.006658094512737023\n",
      "Number of steps taken: 60\n",
      "0.005992292101687724\n",
      "Number of steps taken: 61\n",
      "0.005393068370302956\n",
      "Number of steps taken: 62\n",
      "0.004853765824393008\n",
      "Number of steps taken: 63\n",
      "0.004368392585142544\n",
      "Number of steps taken: 64\n",
      "0.0039315559426498226\n",
      "Number of steps taken: 65\n",
      "0.003538402388066686\n",
      "Number of steps taken: 66\n",
      "0.0031845637443126407\n",
      "Number of steps taken: 67\n",
      "0.002866108614156815\n",
      "Number of steps taken: 68\n",
      "0.0025794987253391355\n",
      "Number of steps taken: 69\n",
      "0.0023215496118140777\n",
      "Number of steps taken: 70\n",
      "0.002089395243743297\n",
      "Number of steps taken: 71\n",
      "0.0018804561823273502\n",
      "Number of steps taken: 72\n",
      "0.0016924109257772102\n",
      "Number of steps taken: 73\n",
      "0.0015231701155968835\n",
      "Number of steps taken: 74\n",
      "0.0013708533246017396\n",
      "Number of steps taken: 75\n",
      "0.0012337681643685983\n",
      "Number of steps taken: 76\n",
      "0.0011103914824701633\n",
      "Number of steps taken: 77\n",
      "0.0009993524392655218\n",
      "Number of steps taken: 78\n",
      "0.0008994172773668652\n",
      "Number of steps taken: 79\n",
      "0.0008094756136998171\n",
      "Number of steps taken: 80\n",
      "0.0007285281023712287\n",
      "Number of steps taken: 81\n",
      "0.0006556753312167984\n",
      "Number of steps taken: 82\n",
      "0.0005901078286001393\n",
      "Number of steps taken: 83\n",
      "0.000531097069575992\n",
      "Number of steps taken: 84\n",
      "0.00047798738123105977\n",
      "Number of steps taken: 85\n",
      "0.00043018865763855274\n",
      "Number of steps taken: 86\n",
      "0.00038716980322561767\n",
      "Number of steps taken: 87\n",
      "0.0003484528317727609\n",
      "Number of steps taken: 88\n",
      "0.0003136075555190132\n",
      "Number of steps taken: 89\n",
      "0.0002822468053622629\n",
      "Number of steps taken: 90\n",
      "0.0002540221290558975\n",
      "Number of steps taken: 91\n",
      "0.0002286199194401206\n",
      "Number of steps taken: 92\n",
      "0.0002057579300824841\n",
      "Number of steps taken: 93\n",
      "0.00018518213909146652\n",
      "Number of steps taken: 94\n",
      "0.00016666392672703978\n",
      "Number of steps taken: 95\n",
      "0.00014999753528854853\n",
      "Number of steps taken: 96\n",
      "0.00013499778273029506\n",
      "Number of steps taken: 97\n",
      "0.00012149800519978271\n",
      "Number of steps taken: 98\n",
      "0.00010934820526387057\n",
      "Number of steps taken: 99\n",
      "9.841338518867815e-05\n",
      "Number of steps taken: 100\n",
      "8.857204703360821e-05\n",
      "Number of steps taken: 101\n",
      "7.971484259883255e-05\n",
      "Number of steps taken: 102\n",
      "7.174335857484948e-05\n",
      "Number of steps taken: 103\n",
      "6.456902287510502e-05\n",
      "Number of steps taken: 104\n",
      "5.8112120719044924e-05\n",
      "Number of steps taken: 105\n",
      "5.230090874874804e-05\n",
      "Number of steps taken: 106\n",
      "4.707081796340162e-05\n",
      "Number of steps taken: 107\n",
      "4.2363736220352166e-05\n",
      "Number of steps taken: 108\n",
      "3.8127362657291997e-05\n",
      "Number of steps taken: 109\n",
      "3.431462641856342e-05\n",
      "Number of steps taken: 110\n",
      "3.0883163809392045e-05\n",
      "Number of steps taken: 111\n",
      "2.779484746184835e-05\n",
      "Number of steps taken: 112\n",
      "2.501536273058491e-05\n",
      "Number of steps taken: 113\n",
      "2.2513826472447818e-05\n",
      "Number of steps taken: 114\n",
      "2.026244382591358e-05\n",
      "Number of steps taken: 115\n",
      "1.8236199466059588e-05\n",
      "Number of steps taken: 116\n",
      "1.6412579512348202e-05\n",
      "Number of steps taken: 117\n",
      "1.4771321573903151e-05\n",
      "Number of steps taken: 118\n",
      "1.329418941509175e-05\n",
      "Number of steps taken: 119\n",
      "1.1964770493477772e-05\n",
      "Number of steps taken: 120\n",
      "1.0768293435603482e-05\n",
      "Number of steps taken: 121\n",
      "9.691464079253365e-06\n",
      "Number of steps taken: 122\n",
      "8.722317687670511e-06\n",
      "Number of steps taken: 123\n",
      "7.850085921745631e-06\n",
      "Number of steps taken: 124\n",
      "7.065077333834324e-06\n",
      "Number of steps taken: 125\n",
      "6.358569592634922e-06\n",
      "Number of steps taken: 126\n",
      "5.7227126362136005e-06\n",
      "Number of steps taken: 127\n",
      "5.150441374723869e-06\n",
      "Number of steps taken: 128\n",
      "4.635397232277683e-06\n",
      "Number of steps taken: 129\n",
      "4.171857511892085e-06\n",
      "Number of steps taken: 130\n",
      "3.7546717663872187e-06\n",
      "Number of steps taken: 131\n",
      "3.3792045854852404e-06\n",
      "Number of steps taken: 132\n",
      "3.0412841240945454e-06\n",
      "Number of steps taken: 133\n",
      "2.7371557180799755e-06\n",
      "Number of steps taken: 134\n",
      "2.4634401469825207e-06\n",
      "Number of steps taken: 135\n",
      "2.2170961244682985e-06\n",
      "Number of steps taken: 136\n",
      "1.995386519126896e-06\n",
      "Number of steps taken: 137\n",
      "1.7958478650825782e-06\n",
      "Number of steps taken: 138\n",
      "1.616263077153235e-06\n",
      "Number of steps taken: 139\n",
      "1.4546367737011678e-06\n",
      "Number of steps taken: 140\n",
      "1.3091730863834528e-06\n",
      "Number of steps taken: 141\n",
      "1.1782557862716203e-06\n",
      "Number of steps taken: 142\n",
      "1.0604302076444583e-06\n",
      "Number of steps taken: 143\n",
      "9.543871897221834e-07\n"
     ]
    },
    {
     "data": {
      "text/plain": [
       "{0: 3, 1: 3, 2: 1, 3: 1}"
      ]
     },
     "execution_count": 871,
     "metadata": {},
     "output_type": "execute_result"
    }
   ],
   "source": [
    "sigma, result_katz = katz_connection(sA, range(sA.shape[0]), sA.shape[0])\n",
    "result_community, community_edge_counts, distant_communities, node_community_mapping = community_connection(sA, range(sA.shape[0]), sA.shape[0])\n",
    "distant_communities"
   ]
  },
  {
   "cell_type": "code",
   "execution_count": 872,
   "metadata": {},
   "outputs": [
    {
     "data": {
      "text/plain": [
       "{(0, 0): 48,\n",
       " (0, 1): 4,\n",
       " (1, 0): 4,\n",
       " (0, 2): 8,\n",
       " (2, 0): 8,\n",
       " (0, 3): 2,\n",
       " (3, 0): 2,\n",
       " (1, 1): 12,\n",
       " (1, 2): 0,\n",
       " (2, 1): 0,\n",
       " (1, 3): 0,\n",
       " (3, 1): 0,\n",
       " (2, 2): 50,\n",
       " (2, 3): 5,\n",
       " (3, 2): 5,\n",
       " (3, 3): 8}"
      ]
     },
     "execution_count": 872,
     "metadata": {},
     "output_type": "execute_result"
    }
   ],
   "source": [
    "community_edge_counts"
   ]
  },
  {
   "cell_type": "code",
   "execution_count": 876,
   "metadata": {},
   "outputs": [
    {
     "data": {
      "text/plain": [
       "[[0, 26],\n",
       " [1, 11],\n",
       " [2, 11],\n",
       " [3, 26],\n",
       " [4, 26],\n",
       " [5, 26],\n",
       " [6, 26],\n",
       " [7, 26],\n",
       " [8, 11],\n",
       " [9, 11],\n",
       " [10, 26],\n",
       " [11, 26],\n",
       " [12, 26],\n",
       " [13, 11],\n",
       " [14, 11],\n",
       " [15, 11],\n",
       " [16, 26],\n",
       " [17, 26],\n",
       " [18, 11],\n",
       " [19, 11],\n",
       " [20, 11],\n",
       " [21, 26],\n",
       " [22, 11],\n",
       " [23, 11],\n",
       " [24, 11],\n",
       " [25, 11],\n",
       " [26, 11],\n",
       " [27, 11],\n",
       " [28, 11],\n",
       " [29, 11],\n",
       " [30, 11],\n",
       " [31, 11],\n",
       " [32, 11],\n",
       " [33, 11]]"
      ]
     },
     "execution_count": 876,
     "metadata": {},
     "output_type": "execute_result"
    }
   ],
   "source": [
    "result_katz"
   ]
  },
  {
   "cell_type": "code",
   "execution_count": 883,
   "metadata": {},
   "outputs": [
    {
     "name": "stdout",
     "output_type": "stream",
     "text": [
      "  (0, 0)\t0.5761758810795738\n",
      "  (0, 1)\t0.3040807399564036\n",
      "  (0, 2)\t0.5021865047417802\n",
      "  (0, 3)\t0.20180279398956197\n",
      "  (0, 4)\t0.07756004718555637\n",
      "  (0, 5)\t0.09725397412165944\n",
      "  (0, 6)\t0.09725397412165944\n",
      "  (0, 7)\t0.13828516588728101\n",
      "  (0, 8)\t0.22123186563799785\n",
      "  (0, 9)\t0.09839911028428577\n",
      "  (0, 10)\t0.07756004718555637\n",
      "  (0, 11)\t0.03240989182465606\n",
      "  (0, 12)\t0.06268030943702035\n",
      "  (0, 13)\t0.19148749223087652\n",
      "  (0, 14)\t0.10434570189395512\n",
      "  (0, 15)\t0.10434570189395508\n",
      "  (0, 16)\t0.04376428538260679\n",
      "  (0, 17)\t0.06281796433422644\n",
      "  (0, 18)\t0.10434570189395506\n",
      "  (0, 19)\t0.11602029067782194\n",
      "  (0, 20)\t0.10434570189395512\n",
      "  (0, 21)\t0.06281796433422644\n",
      "  (0, 22)\t0.10434570189395506\n",
      "  (0, 23)\t0.496030402942641\n",
      "  (0, 24)\t1.463095361595377\n",
      "  (0, 25)\t0.6540934424858215\n",
      "  (0, 26)\t0.10767103024657687\n",
      "  (0, 27)\t0.6266131883204349\n",
      "  (0, 28)\t0.2242784747339583\n",
      "  (0, 29)\t0.24208313506245022\n",
      "  (0, 30)\t0.17457550873229508\n",
      "  (0, 31)\t0.8391957729049488\n",
      "  (0, 32)\t0.6819116938190604\n",
      "  (0, 33)\t1.0049328590047923\n"
     ]
    }
   ],
   "source": [
    "print(sigma[24, :])"
   ]
  },
  {
   "cell_type": "code",
   "execution_count": 874,
   "metadata": {},
   "outputs": [
    {
     "data": {
      "text/plain": [
       "[[0, 28],\n",
       " [1, 25],\n",
       " [2, 31],\n",
       " [3, 28],\n",
       " [4, 28],\n",
       " [5, 31],\n",
       " [6, 25],\n",
       " [7, 31],\n",
       " [8, 10],\n",
       " [9, 31],\n",
       " [10, 25],\n",
       " [11, 31],\n",
       " [12, 25],\n",
       " [13, 24],\n",
       " [14, 4],\n",
       " [15, 5],\n",
       " [16, 25],\n",
       " [17, 28],\n",
       " [18, 4],\n",
       " [19, 28],\n",
       " [20, 10],\n",
       " [21, 24],\n",
       " [22, 4],\n",
       " [23, 6],\n",
       " [24, 10],\n",
       " [25, 16],\n",
       " [26, 10],\n",
       " [27, 5],\n",
       " [28, 10],\n",
       " [29, 4],\n",
       " [30, 6],\n",
       " [31, 5],\n",
       " [32, 4],\n",
       " [33, 16]]"
      ]
     },
     "execution_count": 874,
     "metadata": {},
     "output_type": "execute_result"
    }
   ],
   "source": [
    "result_community"
   ]
  },
  {
   "cell_type": "code",
   "execution_count": 880,
   "metadata": {},
   "outputs": [
    {
     "data": {
      "text/plain": [
       "<1x34 sparse matrix of type '<class 'numpy.float64'>'\n",
       "\twith 34 stored elements in Compressed Sparse Row format>"
      ]
     },
     "execution_count": 880,
     "metadata": {},
     "output_type": "execute_result"
    }
   ],
   "source": [
    "sigma[28, ]"
   ]
  },
  {
   "cell_type": "code",
   "execution_count": 820,
   "metadata": {},
   "outputs": [
    {
     "data": {
      "text/plain": [
       "{0: 3, 1: 3, 2: 3, 3: 2}"
      ]
     },
     "execution_count": 820,
     "metadata": {},
     "output_type": "execute_result"
    }
   ],
   "source": [
    "distant_communities"
   ]
  },
  {
   "cell_type": "code",
   "execution_count": 817,
   "metadata": {},
   "outputs": [
    {
     "data": {
      "text/plain": [
       "[0, 1, 2, 3]"
      ]
     },
     "execution_count": 817,
     "metadata": {},
     "output_type": "execute_result"
    }
   ],
   "source": [
    "list(set(node_community_mapping.values()))"
   ]
  },
  {
   "cell_type": "code",
   "execution_count": 791,
   "metadata": {},
   "outputs": [
    {
     "name": "stdout",
     "output_type": "stream",
     "text": [
      "[[0, 23], [1, 23], [2, 25], [3, 25], [4, 24], [5, 25], [6, 31], [7, 27], [8, 24], [9, 27], [10, 27], [11, 28], [12, 25], [13, 23], [14, 25], [15, 24], [16, 23], [17, 24], [18, 31], [19, 24], [20, 24], [21, 27], [22, 24], [23, 5], [24, 5], [25, 4], [26, 24], [27, 5], [28, 4], [29, 25], [30, 28], [31, 6], [32, 27], [33, 28]]\n"
     ]
    }
   ],
   "source": [
    "print(result_community)"
   ]
  },
  {
   "cell_type": "code",
   "execution_count": 787,
   "metadata": {},
   "outputs": [
    {
     "data": {
      "image/png": "[encoded data removed]",
      "text/plain": [
       "<Figure size 864x576 with 1 Axes>"
      ]
     },
     "metadata": {},
     "output_type": "display_data"
    }
   ],
   "source": [
    "# load the karate club graph\n",
    "G = nx.karate_club_graph()\n",
    "\n",
    "# compute the best partition\n",
    "partition = community.best_partition(G)\n",
    "\n",
    "cmap = cm.get_cmap('viridis', max(partition.values()) + 1)\n",
    "shapes = 'so^>v<dph8'\n",
    "\n",
    "plt.figure(figsize=(12,8))\n",
    "# draw the graph\n",
    "pos = nx.spring_layout(G)\n",
    "# color the nodes according to their partition\n",
    "cmap = cm.get_cmap('viridis', max(partition.values()) + 1)\n",
    "nx.draw_networkx_edges(G, pos, alpha=0.5)\n",
    "for node, color in partition.items():\n",
    "    nx.draw_networkx_nodes(G, pos, [node], node_size=400,\n",
    "                           node_color=[cmap.colors[color]],\n",
    "                           node_shape=shapes[color])\n",
    "    nx.draw_networkx_labels(G,pos,font_color='red')"
   ]
  },
  {
   "cell_type": "code",
   "execution_count": null,
   "metadata": {},
   "outputs": [],
   "source": []
  }
 ],
 "metadata": {
  "kernelspec": {
   "display_name": "Python 3",
   "language": "python",
   "name": "python3"
  },
  "language_info": {
   "codemirror_mode": {
    "name": "ipython",
    "version": 3
   },
   "file_extension": ".py",
   "mimetype": "text/x-python",
   "name": "python",
   "nbconvert_exporter": "python",
   "pygments_lexer": "ipython3",
   "version": "3.6.12"
  }
 },
 "nbformat": 4,
 "nbformat_minor": 4
}
